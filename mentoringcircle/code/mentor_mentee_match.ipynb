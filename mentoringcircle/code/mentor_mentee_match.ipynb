{
 "cells": [
  {
   "cell_type": "code",
   "execution_count": null,
   "metadata": {},
   "outputs": [],
   "source": [
    "import pandas as pd\n",
    "import numpy as np\n",
    "import tensorflow as tf\n",
    "import tensorflow_hub as hub\n",
    "import nltk  \n",
    "from nltk.corpus import stopwords  \n",
    "from nltk.tokenize import word_tokenize  \n",
    "import math as Math\n",
    "from utils import *"
   ]
  },
  {
   "cell_type": "code",
   "execution_count": null,
   "metadata": {},
   "outputs": [],
   "source": [
    "#Set the maximum number of mentees per mentor\n",
    "max_mentees_per_mentor = 10 "
   ]
  },
  {
   "cell_type": "code",
   "execution_count": null,
   "metadata": {},
   "outputs": [],
   "source": [
    "\n",
    "\n",
    "\n",
    "# Download the set of stop words  \n",
    "nltk.download('stopwords')  \n",
    "nltk.download('punkt')  \n",
    "  \n",
    "# Load stop words  \n",
    "stop_words = set(stopwords.words('english'))  \n",
    "stop_words.remove('not')\n",
    "\n"
   ]
  },
  {
   "cell_type": "code",
   "execution_count": null,
   "metadata": {},
   "outputs": [],
   "source": [
    "\n",
    "# Function to remove stop words  \n",
    "def remove_stop_words(text):  \n",
    "    # Tokenize the text  \n",
    "    words = word_tokenize(text)  \n",
    "    # Remove stop words and return the cleaned text  \n",
    "    return ' '.join([word for word in words if word.lower() not in stop_words])  "
   ]
  },
  {
   "cell_type": "markdown",
   "metadata": {},
   "source": [
    "Load the model for embedding"
   ]
  },
  {
   "cell_type": "code",
   "execution_count": null,
   "metadata": {},
   "outputs": [],
   "source": [
    "\n",
    "module_url = \"https://tfhub.dev/google/universal-sentence-encoder/4\"\n",
    "model = hub.load(module_url)\n",
    "print (\"module %s loaded\" % module_url)\n"
   ]
  },
  {
   "cell_type": "code",
   "execution_count": null,
   "metadata": {},
   "outputs": [],
   "source": [
    "\n",
    "#function to embed the input\n",
    "def embed(input):\n",
    "  return model(input)\n",
    "\n",
    "\n",
    "def score_similarity_between_mentor_mentee_goals(mentee_goal, mentor_goal):\n",
    "    mentee_interests_cleaned = remove_stop_words(mentee_goal)\n",
    "    mentor_interests_cleaned = remove_stop_words(mentor_goal)\n",
    "    # embed the interests\n",
    "    embeddings = model([mentee_goal, mentor_goal])\n",
    "    # compute similarity scores of two embeddings\n",
    "    cosine_similarity_orig = np.inner(embeddings[0], embeddings[1]) / (np.linalg.norm(embeddings[0]) * np.linalg.norm(embeddings[1]))\n",
    "    #compute embeddings of the cleaned interests\n",
    "    embeddings = model([mentor_interests_cleaned, mentee_interests_cleaned])\n",
    "     # compute similarity scores of two embeddings\n",
    "    cosine_similarity_cleaned = np.inner(embeddings[0], embeddings[1]) / (np.linalg.norm(embeddings[0]) * np.linalg.norm(embeddings[1]))\n",
    "    #print(cosine_similarity_orig, cosine_similarity_cleaned)\n",
    "    #Get  the maximum similarity score\n",
    "\n",
    "\n",
    "    return max(cosine_similarity_orig, cosine_similarity_cleaned).round(4)"
   ]
  },
  {
   "cell_type": "markdown",
   "metadata": {},
   "source": [
    "Read and clean the mentee submission"
   ]
  },
  {
   "cell_type": "code",
   "execution_count": null,
   "metadata": {},
   "outputs": [],
   "source": [
    "#Read the mentee dataset\n",
    "mentee_df = pd.read_excel('../data/input/mentee.xlsx', engine='openpyxl')\n"
   ]
  },
  {
   "cell_type": "code",
   "execution_count": null,
   "metadata": {},
   "outputs": [],
   "source": [
    "mentee_df['mentee_timezone'].head()"
   ]
  },
  {
   "cell_type": "code",
   "execution_count": null,
   "metadata": {},
   "outputs": [],
   "source": [
    "#apply the function to the timezone column and create a new column\n",
    "mentee_df['mentee_timezone_num'] = mentee_df['mentee_timezone'].apply(assignnumericTimeZone)\n",
    "# Split the 'interests' column into separate strings\n",
    "mentee_df['mentee_split_interests'] = mentee_df['mentee_interests'].str.split(';')"
   ]
  },
  {
   "cell_type": "markdown",
   "metadata": {},
   "source": [
    "Read and clean the mentor dataset"
   ]
  },
  {
   "cell_type": "code",
   "execution_count": null,
   "metadata": {},
   "outputs": [],
   "source": [
    "#Read the mentor dataset\n",
    "mentor_df = pd.read_excel('../data/input/mentor.xlsx', engine='openpyxl')\n"
   ]
  },
  {
   "cell_type": "code",
   "execution_count": null,
   "metadata": {},
   "outputs": [],
   "source": [
    "#create finction assignCirclePreference thats returns value as 'Mid if string contains 'Mid' else if string contains 'Early' returns 'Early'\n",
    "#otherwise returns 'Late'\n",
    "def assignCirclePreference(circle):\n",
    "    if 'Mid' in circle:\n",
    "        return 'Mid'\n",
    "    elif 'Early' in circle:\n",
    "        return 'Early'\n",
    "    else:\n",
    "        return 'NA'\n"
   ]
  },
  {
   "cell_type": "code",
   "execution_count": null,
   "metadata": {},
   "outputs": [],
   "source": [
    "#apply the function to the timezone column and create a new column\n",
    "mentor_df['mentor_timezone_num'] = mentor_df['mentor_timezone'].apply(assignnumericTimeZone)\n",
    "\n",
    "# Split the 'interests' column into separate strings\n",
    "mentor_df['mentor_split_interests'] = mentor_df['mentor_interests'].str.split(';')\n",
    "\n",
    "#change values on mentor circle preference column to 'Early' if value contains 'Early' and 'Mid' if value contains 'Mid'\n",
    "mentor_df['mentor_circle_preference'] = mentor_df['mentor_circle_preference'].apply(assignCirclePreference)\n"
   ]
  },
  {
   "cell_type": "code",
   "execution_count": null,
   "metadata": {},
   "outputs": [],
   "source": [
    "#count distinct values of mentor circle preference\n",
    "mentor_df['mentor_circle_preference'].value_counts()"
   ]
  },
  {
   "cell_type": "code",
   "execution_count": null,
   "metadata": {},
   "outputs": [],
   "source": [
    "# Add a dummy column to both data frames  \n",
    "mentor_df['dummy'] = 1  \n",
    "mentee_df['dummy'] = 1  \n",
    "  \n",
    "# Perform a cross join by merging on the dummy column  \n",
    "cross_join_df = pd.merge(mentor_df, mentee_df, on='dummy')  \n",
    "  \n",
    "# Remove the dummy column  \n",
    "cross_join_df = cross_join_df.drop(columns=['dummy'])  \n",
    "  \n",
    "# Calculate the match score for each mentor-mentee pair  \n",
    "# You can implement your own scoring algorithm or use any other method here  \n",
    "  \n"
   ]
  },
  {
   "cell_type": "code",
   "execution_count": null,
   "metadata": {},
   "outputs": [],
   "source": [
    "# Add an NoMatch column and populate it with 1 if mentor grade is less than mentee grade, otherwise populate it with 0\n",
    "cross_join_df['NoMatch'] = np.where(cross_join_df['mentor_grade'] <= cross_join_df['mentee_grade'], 1, 0)"
   ]
  },
  {
   "cell_type": "code",
   "execution_count": null,
   "metadata": {},
   "outputs": [],
   "source": [
    "#update nomatch olumn to 1 if mentor tmezone and mentee timezone difference is greater than 2\n",
    "cross_join_df['NoMatch'] = np.where(abs(cross_join_df['mentor_timezone_num'] - cross_join_df['mentee_timezone_num']) > 3, 1, cross_join_df['NoMatch'])"
   ]
  },
  {
   "cell_type": "code",
   "execution_count": null,
   "metadata": {},
   "outputs": [],
   "source": [
    "#add column mentee circle level as 'Early' if mentee experience is less than or equal to 8 'Mid otherwise\n",
    "cross_join_df['mentee_circle_preference'] = np.where(cross_join_df['mentee_experience'] <= 8, 'Early', 'Mid')\n",
    "\n",
    "#create column matchCirclePreference as 4 if mentor circle preference is equal to mentee circle preference, 0.25 otherwise  - give higher weightage to matching circle preference\n",
    "cross_join_df['matchCirclePreference'] = np.where(cross_join_df['mentor_circle_preference'] == cross_join_df['mentee_circle_preference'], 4, 0.25)\n",
    "#update nomatch when circle preference is not the same\n",
    "cross_join_df['NoMatch'] = np.where(cross_join_df['mentor_circle_preference'] != cross_join_df['mentee_circle_preference'], 1, cross_join_df['NoMatch'])"
   ]
  },
  {
   "cell_type": "code",
   "execution_count": null,
   "metadata": {},
   "outputs": [],
   "source": [
    "#get count of rows by NoMatch column\n",
    "cross_join_df['NoMatch'].value_counts()"
   ]
  },
  {
   "cell_type": "code",
   "execution_count": null,
   "metadata": {},
   "outputs": [],
   "source": [
    "#get distnct count of mentee ids in cross_join_df where NoMatch is 0\n",
    "cross_join_df[cross_join_df['NoMatch'] == 0]['mentee_id'].nunique()"
   ]
  },
  {
   "cell_type": "code",
   "execution_count": null,
   "metadata": {},
   "outputs": [],
   "source": [
    "#get the list of mentee ids that are in mentee_df but not in (cross_join_df['matching_circles] == 1)\n",
    "dropped_mentee_df = mentee_df[~mentee_df['mentee_id'].isin(cross_join_df[cross_join_df['NoMatch'] == 0]['mentee_id'])]['mentee_id']\n",
    "if dropped_mentee_df.shape[0] > 0:\n",
    "    print('Mentee ids that are dropped:', dropped_mentee_df)\n",
    "else:\n",
    "    print('All mentee ids are present in the matching dataframe')    \n",
    "\n"
   ]
  },
  {
   "cell_type": "code",
   "execution_count": null,
   "metadata": {},
   "outputs": [],
   "source": [
    "#write the cross_join_df to a csv file fo review\n",
    "#cross_join_df.to_csv('../data/output/cross_join_df.csv', index=False)"
   ]
  },
  {
   "cell_type": "code",
   "execution_count": null,
   "metadata": {},
   "outputs": [],
   "source": [
    "#create a new coulm matched_interests by applying common_interests function\n",
    "cross_join_df['matched_interests'] = cross_join_df.apply(lambda x: common_interests(x['mentor_split_interests'], x['mentee_split_interests']), axis=1)\n",
    "#create a new column matched_interests_count as count of items in matched_interests column\n",
    "cross_join_df['matched_interests_count'] = cross_join_df['matched_interests'].apply(lambda x: len(x))"
   ]
  },
  {
   "cell_type": "markdown",
   "metadata": {},
   "source": []
  },
  {
   "cell_type": "code",
   "execution_count": null,
   "metadata": {},
   "outputs": [],
   "source": [
    "#create matched_goals column by applying score_similarity_between_mentor_mentee_goals function\n",
    "cross_join_df['matched_goals'] = cross_join_df.apply(lambda x: score_similarity_between_mentor_mentee_goals(x['mentor_goal'], x['mentee_goal']), axis=1)\n",
    "#create matchGrowth column by applying matchGrowth function\n",
    "cross_join_df['matchGrowth'] = cross_join_df.apply(lambda x: matchGrowth(x['mentor_cll'], x['mentee_cll']), axis=1)\n",
    "#create matchGrowth count column as count of items in matchGrowth function\n",
    "cross_join_df['matchGrowth_count'] = cross_join_df['matchGrowth'].apply(lambda x: len(x))"
   ]
  },
  {
   "cell_type": "code",
   "execution_count": null,
   "metadata": {},
   "outputs": [],
   "source": []
  },
  {
   "cell_type": "code",
   "execution_count": null,
   "metadata": {},
   "outputs": [],
   "source": [
    "cross_join_df.dtypes"
   ]
  },
  {
   "cell_type": "code",
   "execution_count": null,
   "metadata": {},
   "outputs": [],
   "source": [
    "\n",
    "#create x-grade-level-score such that it is (2/(cross_join_df['mentor_grade'] - cross_join_df['mentee_grade']+1)) and round it to 2 decimal places\n",
    "cross_join_df['x-grade-level-score'] = (2/(cross_join_df['mentor_grade'] - cross_join_df['mentee_grade']+1)).round(4)\n",
    "\n",
    "\n",
    "#create x-timezone-score such that it is (2/(abs(cross_join_df['mentor_timezone_num'] - cross_join_df['mentee_timezone_num'])+1))\n",
    "cross_join_df['x-timezone-score'] = (2/(abs(cross_join_df['mentor_timezone_num'] - cross_join_df['mentee_timezone_num'])+1)).round(4)\n",
    "#create a score column such that if NoMatch is 1, score is -1, otherwise score is ((2/difference in mentor and mentee grade ) +matched_interests_count + (matched_goals * 2) + matchCLLGrowth_count + (2/difference in mentor and mentee timezone) +matchedcirclepreference)\n",
    "#cross_join_df['score'] = np.where(cross_join_df['NoMatch'] == 1, -1, cross_join_df['x-grade-level-score'] + cross_join_df['matched_interests_count'] *0.5 + (cross_join_df['matched_goals'] * 2) + cross_join_df['matchCLLGrowth_count'] *0.5 + cross_join_df['x-timezone-score'] + cross_join_df['matchCirclePreference'])\n",
    "\n",
    "cross_join_df['score'] = np.where(cross_join_df['NoMatch'] == 1, -1, cross_join_df['x-grade-level-score'] + cross_join_df['matched_interests_count'] *0.5 + (cross_join_df['matched_goals'] * 2) + cross_join_df['matchCLLGrowth_count'] *0.5 + cross_join_df['x-timezone-score'] )\n",
    "\n",
    "#round the score to 4 decimal places\n",
    "cross_join_df['score'] = cross_join_df['score'].round(4)"
   ]
  },
  {
   "cell_type": "code",
   "execution_count": null,
   "metadata": {},
   "outputs": [],
   "source": [
    "#write the output to a csv file OVERWRITING the existing file\n",
    "#cross_join_df.to_csv('../data/output/mentor_mentee_match.csv', index=False)"
   ]
  },
  {
   "cell_type": "code",
   "execution_count": null,
   "metadata": {},
   "outputs": [],
   "source": [
    "#check if score is infinite or not\n",
    "count = np.isinf(cross_join_df['score']).values.sum() \n",
    "print(\"It contains \" + str(count) + \" infinite values\") \n",
    "#get the maximum value of score column\n",
    "max_score = cross_join_df['score'].max()\n",
    "#print the maximum value of score column\n",
    "print(\"The maximum score is \" + str(max_score))"
   ]
  },
  {
   "cell_type": "code",
   "execution_count": null,
   "metadata": {},
   "outputs": [],
   "source": [
    "#create a new circle column and set its value as 0\n",
    "cross_join_df['circle'] = 9999\n",
    "cross_join_df['circle'].value_counts()\n"
   ]
  },
  {
   "cell_type": "code",
   "execution_count": null,
   "metadata": {},
   "outputs": [],
   "source": [
    "#sort the cross_join_df by score column in descending order and filter out the rows with score less than 0\n",
    "cross_join_df = cross_join_df.sort_values(by='score', ascending=False)\n",
    "cross_join_df_filtered = cross_join_df[cross_join_df['score'] > 0]\n",
    "print(cross_join_df_filtered.shape)\n"
   ]
  },
  {
   "cell_type": "code",
   "execution_count": null,
   "metadata": {},
   "outputs": [],
   "source": [
    "#make a deep copy of cross_join_df and store it as original_cross_join_df\n",
    "original_cross_join_df = cross_join_df.copy(deep=True)"
   ]
  },
  {
   "cell_type": "code",
   "execution_count": null,
   "metadata": {},
   "outputs": [],
   "source": [
    "#Assign mentoring circles\n",
    "mentoring_circles = []  \n",
    "assigned_mentees = set()  \n",
    "assigned_mentors = set()  \n",
    "\n",
    "num_mentors = mentor_df.shape[0]  \n",
    "subset_df = cross_join_df_filtered\n",
    "\n",
    "\n",
    "#function to assign mentee to a circle\n",
    "def assign_mentee(circle, mentee_id):  \n",
    "    if mentee_id not in assigned_mentees:\n",
    "        circle['mentees'].append(mentee_id)  \n",
    "        assigned_mentees.add(mentee_id)  \n",
    "        cross_join_df.loc[(cross_join_df['mentor_id'] == mentor_id) & (cross_join_df['mentee_id'] == mentee_id), 'circle'] = circle['circle_num']  \n",
    "\n",
    "  \n",
    "# Iterate over the rows of the subset data frame  \n",
    "for _, row in subset_df.iterrows():  \n",
    "    mentor_id = row['mentor_id']  \n",
    "    mentee_id = row['mentee_id']  \n",
    "    # Check if the mentor has already been assigned the maximum number of mentees\n",
    "    if mentor_id not in assigned_mentors:\n",
    "            circle_num= len(mentoring_circles) + 1\n",
    "            circle = {'circle_num':circle_num, 'mentor': mentor_id, 'mentees': []}\n",
    "            mentoring_circles.append(circle)\n",
    "            assigned_mentors.add(mentor_id)\n",
    "\n",
    "            assign_mentee(circle, mentee_id)\n",
    "    else:  \n",
    "            # Iterate over the existing circles\n",
    "            for circle in mentoring_circles:  \n",
    "                # Check if the mentor is already in the circle  and the circle has not reached the maximum number of mentees\n",
    "                if circle['mentor'] == mentor_id and len(circle['mentees']) < max_mentees_per_mentor:  \n",
    "                    assign_mentee(circle, mentee_id)\n",
    "\n",
    "                      \n",
    "\n",
    "\n",
    "print(mentoring_circles)"
   ]
  },
  {
   "cell_type": "code",
   "execution_count": null,
   "metadata": {},
   "outputs": [],
   "source": [
    "#group the mentees by circle, circle_preference and count the number of mentees in each circle where circle is not 9999\n",
    "grouped = cross_join_df[cross_join_df['circle'] != 9999].groupby(['circle', 'mentor_circle_preference'])['mentee_id'].count().reset_index()\n",
    "#display the grouped data\n",
    "print(grouped)"
   ]
  },
  {
   "cell_type": "code",
   "execution_count": null,
   "metadata": {},
   "outputs": [],
   "source": [
    "print(cross_join_df.columns)"
   ]
  },
  {
   "cell_type": "code",
   "execution_count": null,
   "metadata": {},
   "outputs": [],
   "source": [
    "#Get distinct menteeid where circle is not 9999\n",
    "assignedmenteeids = cross_join_df[cross_join_df['circle'] != 9999]['mentee_id'].unique()\n",
    "print('Number of mentees:', len(assignedmenteeids))\n"
   ]
  },
  {
   "cell_type": "code",
   "execution_count": null,
   "metadata": {},
   "outputs": [],
   "source": [
    "#get the list of mentee ids that are in mentee_df but not in assignedmenteeids\n",
    "unassigned_mentee_df = mentee_df[~mentee_df['mentee_id'].isin(assignedmenteeids)]['mentee_id']\n",
    "if unassigned_mentee_df.shape[0] > 0:\n",
    "    print('Mentee ids that are dropped:', unassigned_mentee_df)\n",
    "else:\n",
    "    print('All mentee ids are present in the matching dataframe') "
   ]
  },
  {
   "cell_type": "code",
   "execution_count": null,
   "metadata": {},
   "outputs": [],
   "source": [
    "orderofcolumns =['circle', 'score','mentor_id', 'mentor_grade',\n",
    " 'mentor_name', 'mentor_first_name', 'mentor_last_name',\n",
    "       'mentor_email', 'mentor_job_title',\n",
    "       'mentee_id', 'mentee_name', 'mentee_first_name', 'mentee_last_name',\n",
    "       'mentee_email','mentee_job_title','mentee_grade','mentor_grade','x-grade-level-score',\n",
    "        'mentor_timezone', 'mentee_timezone', 'x-timezone-score',\n",
    "       'NoMatch', \n",
    "       'mentee_circle_preference','mentor_circle_preference','mentee_experience','mentee_orig_experience',\n",
    "       'matchCirclePreference', \n",
    "         'matched_goals', 'mentor_goal', 'mentee_goal','matched_interests',\n",
    "       'matched_interests_count', 'mentor_interests', 'mentee_interests',\n",
    "        'mentor_cll','mentee_cll', 'matchCLLGrowth', 'matchCLLGrowth_count',\n",
    "       'mentor_eligibility', 'mentor_wiadspast_mentorship','mentee_mgr_approval',\n",
    "       'mentee_eligibility', 'mentee_past_mentorship', 'mentee_wiads_member', 'mentor_org',\n",
    "       'mentor_dept', 'mentor_GLcode', 'mentor_business_unit',\n",
    "       'mentor_wiads_member',\n",
    "       'mentor_past_mentorship' , 'mentee_org',   'mentee_dept', 'mentee_GLcode', 'mentee_business_unit']"
   ]
  },
  {
   "cell_type": "code",
   "execution_count": null,
   "metadata": {},
   "outputs": [],
   "source": [
    "# subset_columns = ['circle', 'score','mentor_id', 'mentor_name', 'mentee_id', 'mentee_name', 'mentor_grade', 'mentee_grade', 'x-grade-level-score', 'mentee_circle_preference','mentor_circle_preference','mentee_experience',\n",
    "       # 'matchCirclePreference',  'matched_goals', 'mentor_goal', 'mentee_goal','matched_interests',\n",
    "       # 'matched_interests_count', 'mentor_interests', 'mentee_interests',\n",
    "       #  'mentor_cll','mentee_cll', 'matchCLLGrowth',  'mentor_timezone', 'mentee_timezone','x-timezone-score','mentee_timezone_num','mentor_timezone_num']"
   ]
  },
  {
   "cell_type": "code",
   "execution_count": null,
   "metadata": {},
   "outputs": [],
   "source": [
    "\n",
    "# #subselect column and sort by circle ascending and score descending\n",
    "# subselected_df = cross_join_df[subset_columns].sort_values(by=['circle', 'score'], ascending=[True, False])\n",
    "# #write the output to a csv file\n",
    "# subselected_df.to_csv('../data/output/mentoring_circles.csv', index=False)\n",
    "\n",
    "\n",
    "\n"
   ]
  },
  {
   "cell_type": "code",
   "execution_count": null,
   "metadata": {},
   "outputs": [],
   "source": [
    "#subset the cross_join_df with the order of columns\n",
    "cross_join_df = cross_join_df[orderofcolumns]"
   ]
  },
  {
   "cell_type": "code",
   "execution_count": null,
   "metadata": {},
   "outputs": [],
   "source": [
    "#sort cross_join_df by circle column\n",
    "cross_join_df = cross_join_df.sort_values(by=['circle', 'score'], ascending=[True, False])\n",
    "#Write the cross_join_df to a xlsx file and with order of columns specified\n",
    "#orderofcolumns = ['mentor_id', 'mentee_id', 'score', 'NoMatch', 'matched_interests', 'matched_interests_count', 'matched_goals', 'matchCLLGrowth', 'matchCLLGrowth_count', 'mentee_circle_preference', 'mentor_circle_preference', 'matchCirclePreference', 'circle']\n",
    "cross_join_df.to_excel('../data/output/mentor_mentee_circles_no_x_circle.xlsx', columns=orderofcolumns, index=False)"
   ]
  },
  {
   "cell_type": "code",
   "execution_count": null,
   "metadata": {},
   "outputs": [],
   "source": []
  },
  {
   "cell_type": "code",
   "execution_count": null,
   "metadata": {},
   "outputs": [],
   "source": []
  }
 ],
 "metadata": {
  "kernelspec": {
   "display_name": "mentorenv",
   "language": "python",
   "name": "python3"
  },
  "language_info": {
   "codemirror_mode": {
    "name": "ipython",
    "version": 3
   },
   "file_extension": ".py",
   "mimetype": "text/x-python",
   "name": "python",
   "nbconvert_exporter": "python",
   "pygments_lexer": "ipython3",
   "version": "3.9.19"
  }
 },
 "nbformat": 4,
 "nbformat_minor": 2
}
