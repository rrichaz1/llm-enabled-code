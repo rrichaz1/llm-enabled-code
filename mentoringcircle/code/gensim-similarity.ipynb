{
 "cells": [
  {
   "cell_type": "code",
   "execution_count": 1,
   "metadata": {},
   "outputs": [],
   "source": [
    "\n",
    "from gensim.parsing.preprocessing import remove_stopwords, stem_text  \n",
    "from gensim.utils import simple_preprocess  "
   ]
  },
  {
   "cell_type": "code",
   "execution_count": 2,
   "metadata": {},
   "outputs": [],
   "source": [
    "documents = [  \n",
    "    \"I'm interested in artificial intelligence and machine learning.\",  \n",
    "    \"My research focuses on deep learning applications in healthcare.\",  \n",
    "    # Add more documents as needed  \n",
    "]  "
   ]
  },
  {
   "cell_type": "code",
   "execution_count": 3,
   "metadata": {},
   "outputs": [],
   "source": [
    "def preprocess(document):  \n",
    "    document = remove_stopwords(document)  \n",
    "    document = stem_text(document)  # Optional: consider whether stemming is appropriate for your use case  \n",
    "    return simple_preprocess(document, deacc=True)  # Deacc=True removes punctuation  "
   ]
  },
  {
   "cell_type": "code",
   "execution_count": 4,
   "metadata": {},
   "outputs": [],
   "source": [
    "  \n",
    "processed_docs = [preprocess(doc) for doc in documents]  "
   ]
  },
  {
   "cell_type": "code",
   "execution_count": 5,
   "metadata": {},
   "outputs": [],
   "source": [
    "from gensim.corpora import Dictionary  \n",
    "  \n",
    "dictionary = Dictionary(processed_docs)  \n",
    "corpus = [dictionary.doc2bow(doc) for doc in processed_docs]  "
   ]
  },
  {
   "cell_type": "code",
   "execution_count": 6,
   "metadata": {},
   "outputs": [],
   "source": [
    "from gensim.models import TfidfModel  \n",
    "  \n",
    "tfidf = TfidfModel(corpus)  "
   ]
  },
  {
   "cell_type": "code",
   "execution_count": 7,
   "metadata": {},
   "outputs": [],
   "source": [
    "from gensim.similarities import Similarity  "
   ]
  },
  {
   "cell_type": "code",
   "execution_count": 8,
   "metadata": {},
   "outputs": [],
   "source": [
    "similarity_index = Similarity(output_prefix=\"gensim-similarity\", corpus=tfidf[corpus], num_features=len(dictionary))  "
   ]
  },
  {
   "cell_type": "code",
   "execution_count": 9,
   "metadata": {},
   "outputs": [],
   "source": [
    "# To get similarities of a new document against the existing corpus:  \n",
    "new_doc = \"I am interested in robotics and computer vision.\"  \n",
    "new_doc_processed = preprocess(new_doc)  \n",
    "new_doc_bow = dictionary.doc2bow(new_doc_processed)  \n",
    "new_doc_tfidf = tfidf[new_doc_bow] "
   ]
  },
  {
   "cell_type": "code",
   "execution_count": 10,
   "metadata": {},
   "outputs": [
    {
     "name": "stdout",
     "output_type": "stream",
     "text": [
      "Document 0 : 0.4472135901451111\n",
      "Document 1 : 0.0\n"
     ]
    }
   ],
   "source": [
    "# Get similarities of the new document against the entire corpus  \n",
    "similarities = similarity_index[new_doc_tfidf]  \n",
    "  \n",
    "# Print the similarities  \n",
    "for doc_position, doc_similarity in enumerate(similarities):  \n",
    "    print(f\"Document {doc_position} : {doc_similarity}\") "
   ]
  }
 ],
 "metadata": {
  "kernelspec": {
   "display_name": "mentorenv",
   "language": "python",
   "name": "python3"
  },
  "language_info": {
   "codemirror_mode": {
    "name": "ipython",
    "version": 3
   },
   "file_extension": ".py",
   "mimetype": "text/x-python",
   "name": "python",
   "nbconvert_exporter": "python",
   "pygments_lexer": "ipython3",
   "version": "3.12.3"
  }
 },
 "nbformat": 4,
 "nbformat_minor": 2
}
