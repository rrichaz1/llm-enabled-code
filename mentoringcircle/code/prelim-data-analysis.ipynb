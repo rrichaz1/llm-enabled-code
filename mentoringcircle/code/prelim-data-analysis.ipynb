{
 "cells": [
  {
   "cell_type": "code",
   "execution_count": null,
   "metadata": {},
   "outputs": [],
   "source": [
    "import pandas as pd\n",
    "import numpy as np\n",
    "from utils import *"
   ]
  },
  {
   "cell_type": "code",
   "execution_count": null,
   "metadata": {},
   "outputs": [],
   "source": [
    "#Read the mentee dataset\n",
    "mentee_df = pd.read_excel('../data/input/mentee.xlsx', engine='openpyxl')"
   ]
  },
  {
   "cell_type": "code",
   "execution_count": null,
   "metadata": {},
   "outputs": [],
   "source": [
    "#display the columns of the dataset\n",
    "mentee_df.columns\n"
   ]
  },
  {
   "cell_type": "code",
   "execution_count": null,
   "metadata": {},
   "outputs": [],
   "source": [
    "#drop the columns that are not needed\n",
    "mentee_df = mentee_df.drop(columns=['start_time', 'end_time','mentee_email','update_time'])\n",
    "mentee_df.head()\n"
   ]
  },
  {
   "cell_type": "code",
   "execution_count": null,
   "metadata": {},
   "outputs": [],
   "source": [
    "#print shape of the dataset\n",
    "print(mentee_df.shape)"
   ]
  },
  {
   "cell_type": "code",
   "execution_count": null,
   "metadata": {},
   "outputs": [],
   "source": [
    "#  print first 5 values of mentee_cll column\n",
    "\n",
    "for i in range(5):\n",
    "    print(mentee_df[\"mentee_growth\"].iloc[i])"
   ]
  },
  {
   "cell_type": "code",
   "execution_count": null,
   "metadata": {},
   "outputs": [],
   "source": [
    "#distinct values of glcode  column\n",
    "mentee_df.mentee_growth.unique()"
   ]
  },
  {
   "cell_type": "code",
   "execution_count": null,
   "metadata": {},
   "outputs": [],
   "source": [
    "#apply the function to the timezone column and create a new column\n",
    "mentee_df['mentee_timezone_num'] = mentee_df['mentee_timezone'].apply(assignnumericTimeZone)"
   ]
  },
  {
   "cell_type": "code",
   "execution_count": null,
   "metadata": {},
   "outputs": [],
   "source": [
    "#group the dataset by the timezone_num column and count the number of mentees in each timezone\n",
    "mentee_df.groupby('mentee_timezone_num').count()"
   ]
  },
  {
   "cell_type": "code",
   "execution_count": null,
   "metadata": {},
   "outputs": [],
   "source": [
    "#show data type of columns\n",
    "mentee_df.dtypes"
   ]
  },
  {
   "cell_type": "code",
   "execution_count": null,
   "metadata": {},
   "outputs": [],
   "source": [
    "# Split the 'interests' column into separate strings\n",
    "mentee_df['mentee_split_interests'] = mentee_df['mentee_interests'].str.split(';')\n",
    "# Get the count of strings in each list and create a new column 'count'  \n",
    "mentee_df['mentee_interest_count'] = mentee_df['mentee_interests'].apply(lambda x: len(x))  \n",
    "# Get the distinct  count of strings in the 'count' column\n",
    "mentee_df['mentee_interest_count'].value_counts()\n"
   ]
  },
  {
   "cell_type": "code",
   "execution_count": null,
   "metadata": {},
   "outputs": [],
   "source": [
    "# Create an empty list to store the distinct values  \n",
    "distinct_values = []  \n",
    "  \n",
    "# Iterate over each row in the DataFrame  \n",
    "for row in mentee_df['split_interests']:  \n",
    "    # Iterate over each category in the row  \n",
    "    for interest in row:  \n",
    "        # Check if the category is not already in the distinct_values list  \n",
    "        if interest not in distinct_values:  \n",
    "            # Append the category to the distinct_values list  \n",
    "            distinct_values.append(interest)  \n",
    "  \n",
    "# Print the distinct values  \n",
    "print(distinct_values)\n"
   ]
  },
  {
   "cell_type": "code",
   "execution_count": null,
   "metadata": {},
   "outputs": [],
   "source": [
    "# create bins on experience column e.g. 0-5, 5-10 and then group and count the number of mentees in each bin\n",
    "bins = [0, 4, 8,  12, 16, 20, 25, 30]\n",
    "mentee_df['mentee_bins'] = pd.cut(mentee_df['mentee_experience'], bins)"
   ]
  },
  {
   "cell_type": "code",
   "execution_count": null,
   "metadata": {},
   "outputs": [],
   "source": [
    "mentee_df.head()"
   ]
  },
  {
   "cell_type": "code",
   "execution_count": null,
   "metadata": {},
   "outputs": [],
   "source": [
    "mentee_df['mentee_bins'].value_counts()\n"
   ]
  },
  {
   "cell_type": "code",
   "execution_count": null,
   "metadata": {},
   "outputs": [],
   "source": []
  },
  {
   "cell_type": "markdown",
   "metadata": {},
   "source": [
    "Explore the mentors"
   ]
  },
  {
   "cell_type": "code",
   "execution_count": null,
   "metadata": {},
   "outputs": [],
   "source": [
    "#Read the mentor dataset\n",
    "mentor_df = pd.read_excel('../data/input/mentor.xlsx', engine='openpyxl')"
   ]
  },
  {
   "cell_type": "code",
   "execution_count": null,
   "metadata": {},
   "outputs": [],
   "source": [
    "mentor_df.columns"
   ]
  },
  {
   "cell_type": "code",
   "execution_count": null,
   "metadata": {},
   "outputs": [],
   "source": [
    "#apply the function to the timezone column and create a new column\n",
    "mentor_df['mentor_timezone_num'] = mentor_df['mentor_timezone'].apply(assignnumericTimeZone)"
   ]
  },
  {
   "cell_type": "code",
   "execution_count": null,
   "metadata": {},
   "outputs": [],
   "source": [
    "#group the dataset by the timezone_num column and count the number of mentees in each timezone\n",
    "mentor_df.groupby('mentor_timezone_num').count()"
   ]
  },
  {
   "cell_type": "code",
   "execution_count": null,
   "metadata": {},
   "outputs": [],
   "source": [
    "\n",
    "# Split the 'interests' column into separate strings\n",
    "mentor_df['mentor_split_interests'] = mentor_df['mentor_interests'].str.split(';')\n",
    "# Get the count of strings in each list and create a new column 'count'  \n",
    "mentor_df['mentor_interest_count'] = mentor_df['mentor_interests'].apply(lambda x: len(x))  \n",
    "# Get the distinct  count of strings in the 'count' column\n",
    "mentor_df['mentor_interest_count'].value_counts()"
   ]
  },
  {
   "cell_type": "code",
   "execution_count": null,
   "metadata": {},
   "outputs": [],
   "source": [
    "# Create an empty list to store the distinct values  \n",
    "distinct_values = []  \n",
    "  \n",
    "# Iterate over each row in the DataFrame  \n",
    "for row in mentor_df['mentor_split_interests']:  \n",
    "    print(row)\n",
    "    # Iterate over each category in the row  \n",
    "    for interest in row:  \n",
    "        interest = interest.strip()\n",
    "        # Check if the category is not already in the distinct_values list  \n",
    "        if interest not in distinct_values:  \n",
    "            # Append the category to the distinct_values list  \n",
    "            distinct_values.append(interest)  \n",
    "  \n",
    "# Print the distinct values  \n",
    "print(distinct_values)"
   ]
  },
  {
   "cell_type": "code",
   "execution_count": null,
   "metadata": {},
   "outputs": [],
   "source": [
    "#group the mentor dataframe by mentor_circle_preference and count the number of mentors in each group\n",
    "mentor_df.groupby('mentor_circle_preference').count()"
   ]
  },
  {
   "cell_type": "code",
   "execution_count": null,
   "metadata": {},
   "outputs": [],
   "source": []
  }
 ],
 "metadata": {
  "kernelspec": {
   "display_name": "mentorenv",
   "language": "python",
   "name": "python3"
  },
  "language_info": {
   "codemirror_mode": {
    "name": "ipython",
    "version": 3
   },
   "file_extension": ".py",
   "mimetype": "text/x-python",
   "name": "python",
   "nbconvert_exporter": "python",
   "pygments_lexer": "ipython3",
   "version": "3.9.19"
  }
 },
 "nbformat": 4,
 "nbformat_minor": 2
}
